{
 "cells": [
  {
   "cell_type": "code",
   "execution_count": 1,
   "metadata": {},
   "outputs": [],
   "source": [
    "## GIT config your mail id and name\n",
    "\n",
    "git config --global user.name \"sahulniveussoltion\"\n",
    "git config --global user.email \"sahul.sumra@niveussoltions.com\""
   ]
  },
  {
   "cell_type": "code",
   "execution_count": null,
   "metadata": {},
   "outputs": [],
   "source": [
    "## To check whether the config is set or not\n",
    "\n",
    "cat ~/.gitconfig\n",
    "\n",
    "\"\"\"\n",
    "  name = sahulniveussoltion\n",
    "  email = sahul.sumra@niveussoltions.com\n",
    "\n",
    "  \"\"\""
   ]
  },
  {
   "cell_type": "code",
   "execution_count": null,
   "metadata": {},
   "outputs": [],
   "source": [
    "## Creating and adding SSH Key\n",
    "# SSH is way of removing the id and password when we need to download the repo directly\n",
    "\n",
    "ssh-keygen -o\n",
    "\n",
    "# after that do enter 2 times\n",
    "# run this\n",
    "cat /home/niveus/.ssh/id_rsa.pub\n",
    "\n",
    "##After this you will get this key\n",
    "\n",
    "\"\"\"\n",
    "ssh-rsa AAAAB3NzaC1yc2EAAAADAQABAAABgQCq+b/M5tUkaFovsk1KpbqPr1XkLhr/5GHufOIjClR\n",
    "qwEHjdeVngu9XFP+BSJ9rB0YOCMlCWT8y/mQDkz2G+50mGfJG9tpZalQUkYwNx/yYGUwCEGG7BffqLOfuNLxBj\n",
    "4SUveqv2uiAeFA+blbaAv+EFwPn8A+XtUgqrXbuvgIIvbg+51gObcGYZc432zV0b1OK8yPpdqzxYepx4+93q1QEaDiMZcaoNeOy\n",
    "HL950JS7Dj0Z2dvPMxkeHalN4MACG/xMXbfs1iZXZ5EYFLkIBIlviwVe+ovWwtG/6xVOVbn1ncSpoQPW2tEljfxvBdh/l6am\n",
    "L5uDMjjO4hBygXpW7g7DpRLpqzXLbjkZBbgI2PVHy6dclhqdONNUOFkB4ruMjiwxy/HB0X1d/95ymO33WqsEXV0fZyNWwvEuG/z\n",
    "Dq6NXg00TNqZTirvWWju4MLT/skOfpr5qeyh7xY/69mBjnz8I3npCIqEBM2M3BbaF8bnqOsp99/ctk= niveus@IND040304\n",
    "\n",
    "\"\"\""
   ]
  },
  {
   "cell_type": "code",
   "execution_count": null,
   "metadata": {},
   "outputs": [],
   "source": [
    "## How to Clone REPO\n",
    "git clone git@github.com:wagtail/wagtail.git\n",
    "\n",
    "### use cd command to go inside\n",
    "cd wagtail\n",
    "\n",
    "## to check the readme.md file in terminal use command \n",
    "\n",
    "cat README.md\n",
    "\n",
    "## history\n",
    "pwd\n",
    "\n",
    "\n",
    "## logs\n",
    "git log"
   ]
  },
  {
   "cell_type": "code",
   "execution_count": null,
   "metadata": {},
   "outputs": [],
   "source": [
    "## how to create new Repo from scratch from cli\n",
    "## create new folder name test\n",
    "cd test\n",
    "\n",
    "##pwd for checking the location\n",
    "\n",
    "ls -la # to check the folders available\n",
    "\n",
    "## create a a file inside git essentials repo\n",
    "echo \"#git -essentials\" >> README.md\n",
    "\n",
    "git init #intialiaze the git\n",
    "\n",
    "ls -la # check all the folder and files inside the test folder\n",
    "\n",
    "git add README.md # for the Readme file to the to repo\n",
    "\n",
    "git status # for the whether the new file is added or not\n",
    "\n",
    "git commit -m \"FIRST COMMIT\"  # for the comment in the code\n",
    "\n",
    "git log # for checking all the logs\n",
    "\n",
    "git remote add origin https://github.com/sahulniveussolution/git-essentials.git  # link where we need to push\n",
    "\n",
    "## if orgin is already present their\n",
    "\n",
    "### if you want to use ssh key create a repo with ssh and copy the ssh link url\n",
    "git remote add origin git@github.com:sahulniveussolution/git-essentials.git\n",
    "\n",
    "git remote -v # giving the origin to push and fetch the files\n",
    "\n",
    "git push -u origin master\n"
   ]
  },
  {
   "cell_type": "code",
   "execution_count": null,
   "metadata": {},
   "outputs": [],
   "source": [
    "## how to push the file to the git\n",
    "# majorly for 4 steps are their:\n",
    "#     1. unstaged work\n",
    "#     2. stage work\n",
    "#     3. push work\n",
    "#     4. push work\n",
    "\n",
    "# to write the code in terminal use nano, vim command\n",
    "# if vim is not installed use this command\n",
    "\n",
    "sudo apt install vim \n",
    "\n",
    "#create a file\n",
    "vim first-push.txt #### after you write a text please write  \":qa\" and enter\n",
    "\n",
    "# create a file with nano cmd\n",
    "\n",
    "nano first-push.txt\n",
    "\n",
    "# add\n",
    "git add first-push.txt\n",
    "\n",
    "\n",
    "# git commit\n",
    "git commit -m \"second commit\"\n",
    "\n",
    "# push the code \n",
    "git push origin master"
   ]
  },
  {
   "cell_type": "code",
   "execution_count": null,
   "metadata": {},
   "outputs": [],
   "source": [
    "## git status command\n",
    "# it will files updates,added,delete,changed pretty much everything and modify also\n",
    "\n",
    "git status\n",
    "\n",
    "## add all the files\n",
    "\n",
    "git add .\n",
    "\n",
    "# delete the files\n",
    "rm first-push.txt\n",
    "deleted:    first-push.txt\n",
    "\n",
    "#what if accidently deleted the files and wanted it back \n",
    "git reset HEAD first-push.txt\n",
    "\n",
    "\n",
    "# undeleting the files\n",
    "git checkout -- first-push.txt"
   ]
  },
  {
   "cell_type": "code",
   "execution_count": null,
   "metadata": {},
   "outputs": [],
   "source": [
    "## git origin and remotes\n",
    "git remote -v"
   ]
  },
  {
   "cell_type": "code",
   "execution_count": null,
   "metadata": {},
   "outputs": [],
   "source": [
    "# git branching\n",
    "git checkout -b  new-branch\n",
    "\n",
    "git branch # to check which branch currently its in\n",
    "\n",
    "# switch to master again\n",
    "git checkout master\n",
    "git branch"
   ]
  },
  {
   "cell_type": "code",
   "execution_count": null,
   "metadata": {},
   "outputs": [],
   "source": [
    "# commting to the new branch\n",
    "vim new-branch.txt or nano newbranch.txt\n",
    "\n",
    "git add newbranch.txt\n",
    "git commit -m \"new branch\"\n",
    "git push origin new-branch\n"
   ]
  },
  {
   "cell_type": "code",
   "execution_count": null,
   "metadata": {},
   "outputs": [],
   "source": [
    "# now we have new file only in new branch not in master\n",
    "# here we see how to merge the files in new and master branch\n",
    "\n",
    "git branch\n",
    "git checkout master\n",
    "git branch\n",
    "\n",
    "# merge new brnach to master\n",
    "git pull origin master\n",
    "\n",
    " * branch            master     -> FETCH_HEAD\n",
    "Already up to date.\n",
    "\n",
    "# you should be on master branch to do this\n",
    "git merge newbrnach\n",
    "\n",
    "git push origin master\n",
    "\n"
   ]
  },
  {
   "cell_type": "code",
   "execution_count": null,
   "metadata": {},
   "outputs": [],
   "source": [
    "# git history\n",
    "\n",
    "git log\n",
    "\n"
   ]
  },
  {
   "cell_type": "code",
   "execution_count": null,
   "metadata": {},
   "outputs": [],
   "source": [
    "# downloading updates from github\n",
    "#you can add the readme file manually over their\n",
    "git pull origin master \n",
    "cat README.md\n",
    "git log\n",
    "\n",
    "touch emptyfile.txt # create a new empty file \n",
    "ls -la\n",
    "\n",
    "git status\n",
    "git add emptyfile.txt\n",
    "git status\n",
    "git commit -m \"added new empty file\"\n",
    "\n",
    "To github.com:sahulniveussolution/git_essentials.git\n",
    " ! [rejected]        master -> master (fetch first)\n",
    "error: failed to push some refs to 'github.com:sahulniveussolution/git_essentials.git'\n",
    "\n",
    "\n",
    "#we added the file in both ways that is the reason it rejecting the files git and local \n",
    "# may conflict\n",
    "git config pull.rebase false  # solution merge\n",
    "git config pull.rebase true   #Rebase\n",
    "git config pull.ff only  # fast forward\n",
    "\n",
    "# or else\n",
    "git pull origin master\n",
    "git push origin master\n",
    "\n"
   ]
  },
  {
   "cell_type": "code",
   "execution_count": null,
   "metadata": {},
   "outputs": [],
   "source": [
    "# how get updates from git without pulling the code\n",
    "git fetch origin master # code will not download just you check what are the chnages has been applied\n",
    "ls -la\n",
    "\n",
    "git log\n",
    "\n",
    "# for check whatis updated\n",
    "git log --oneline --graph --decorate --all ### HEAD you can check and come to know till where its updated\n",
    "\n",
    "\n",
    "git pull origin master\n",
    "\n",
    "### again you can push\n"
   ]
  },
  {
   "cell_type": "code",
   "execution_count": null,
   "metadata": {},
   "outputs": [],
   "source": [
    "# code time travel\n",
    "git log\n",
    "\n",
    "# copy hasid from the commit history\n",
    "git checkout 73d18a6245622b5eca80b1182cbefd6d91cce5e8 ## for checking the history\n",
    "ls -la\n",
    "git log\n",
    "\n",
    "\n",
    "### from the previous codes or time you can create a new brnach push the code their\n",
    "\n",
    "git checkout -b timewrap-branch\n",
    "touch time.txt\n",
    "git add time.txt\n",
    "git commit -m \"timewraptestfile\"\n",
    "git push origin timewrap-branch\n",
    "\n",
    "#####after\n",
    "git checkout master\n",
    "git merge timewrap-branch\n",
    "git log\n",
    "git status\n",
    "git push orgin master\n",
    "\n"
   ]
  },
  {
   "cell_type": "code",
   "execution_count": null,
   "metadata": {},
   "outputs": [],
   "source": [
    "# readme files\n",
    "# always written in markdown\n",
    "\n",
    "# is the largest\n",
    "#### small \n",
    "\n"
   ]
  },
  {
   "cell_type": "code",
   "execution_count": null,
   "metadata": {},
   "outputs": [],
   "source": [
    "### viewing file difference\n",
    "nano README.md\n",
    "git status\n",
    "git diff README.md  # important code\n",
    "\n",
    "\n",
    "## add commit and push\n",
    "\n"
   ]
  },
  {
   "cell_type": "code",
   "execution_count": null,
   "metadata": {},
   "outputs": [],
   "source": [
    "# how to ignore files or unwanted files dont want big files or folder\n",
    "# create a .gitignore\n",
    "nano .gitignore\n",
    "\n",
    "*.txt\n",
    "\n",
    "### delete from cached of git\n",
    "git rm --cached *.txt\n",
    "\n",
    "git add .gitignore\n",
    "git commit -m \"Remove tracked .txt files and update .gitignore\"\n",
    "\n",
    "\n",
    "git push origin master\n",
    "\n",
    "\n",
    "##### if you want to ignore the folder\n",
    "\n",
    "git rm -r --cached folder_name\n",
    "\n",
    "\n",
    "\n",
    "\n"
   ]
  },
  {
   "cell_type": "code",
   "execution_count": null,
   "metadata": {},
   "outputs": [],
   "source": [
    "## how make shortcut command in terminals or ALIAS\n",
    "\n",
    "nano ~/.gitconfig\n",
    "\n",
    "for example for git log i am putting alias as lg\n",
    "    so the command will be like:\n",
    "   \n",
    "   git lg\n",
    "\n"
   ]
  },
  {
   "cell_type": "code",
   "execution_count": null,
   "metadata": {},
   "outputs": [],
   "source": [
    "# fixing git commit message if its done how to change it again\n",
    "touch badcommit.txt\n",
    "\n",
    "git add .\n",
    "git commit -m \"a tpoy here\"\n",
    "git commit --amend # nano will open and change the name\n",
    "git log\n",
    "git push origin master\n"
   ]
  },
  {
   "cell_type": "code",
   "execution_count": null,
   "metadata": {},
   "outputs": [],
   "source": [
    "# how to fork a REPO\n",
    "\n",
    "# taking an existing copy option is already their in gitpage with fork\n",
    "\n",
    "# for example you are checking some git and you liked to work on that better to take that project in your git and that can be done directly by clicking the fork button"
   ]
  },
  {
   "cell_type": "code",
   "execution_count": null,
   "metadata": {},
   "outputs": [],
   "source": [
    "# git issues\n",
    "\n"
   ]
  },
  {
   "cell_type": "code",
   "execution_count": null,
   "metadata": {},
   "outputs": [],
   "source": [
    "# how to open the pull request\n",
    "git checkout -b testbranch\n",
    "nano README.md\n",
    "\n",
    "add,commit,push\n",
    "\n",
    "git branch -d testbranch\n",
    "\n",
    "\n",
    "super import :intial for example me and neethan is doing the code neethan has some updates in the code so neethan will create a new branch he will push the code thier \n",
    "then he will do the pull request where i was using master and neethan test repo .....so we will merge neethan code to the master branch using the pull request \n",
    "super important\n",
    "\n",
    "\n"
   ]
  },
  {
   "cell_type": "code",
   "execution_count": null,
   "metadata": {},
   "outputs": [],
   "source": [
    "### undoing the commits\n",
    "# how to undo to the previous commit\n",
    "\n",
    "# 570e7ed (HEAD -> testbranch, origin/testbranch) fully uodates readme files according to the sahul sumra\n",
    "# f8694f3 (master) A Tpyo on message\n",
    "# 435c7b8 A Tpyo\n",
    "# d298570 (origin/master) added gitignore file\n",
    "# 2c80219 added gitignore file\n",
    "# 62d9d7d added gitignore file\n",
    "# c87c874 not anymore empty file Update notemptyfile.txt\n",
    "# 0abd7a8 Update and rename emptyfile.txt to notemptyfile.txt\n",
    "# 98ec5fe Rename notnewbranch.txt to newbranch.txt\n",
    "# d01c951 Rename newbranch.txt to notnewbranch.txt\n",
    "# 6e219b3 Merge branch 'master' of github.com:sahulniveussolution/git_essentials\n",
    "# ce7830d added new empty file\n",
    "# 30a2690 Update newbranch.txt\n",
    "# 73d18a6 Update README.md\n",
    "# c84bb07 (origin/new-branch, new-branch) new branch pushing\n",
    "# dabb679 second commit\n",
    "# eabc229 FIRST COMMIT\n",
    "\n",
    "\n",
    "# for example i need to come here in this code c87c874 for id\n",
    "\n",
    "soft reset\n",
    "hard reset\n",
    "\n",
    "\n",
    "\n",
    "# for example when we add the branch or pull request may be their was some issue while running the code\n",
    "# undo is import in that case\n",
    "\n",
    "git reset --hard c87c874 # it will delete all the files\n",
    "\n",
    "git reset --soft 46a65f6 # file will be their but not in git cache\n"
   ]
  },
  {
   "cell_type": "code",
   "execution_count": null,
   "metadata": {},
   "outputs": [],
   "source": [
    "# force pushing\n",
    "#network issues\n",
    "\n"
   ]
  },
  {
   "cell_type": "code",
   "execution_count": null,
   "metadata": {},
   "outputs": [],
   "source": [
    "# how to rebase\n",
    "# no merge will happen here\n",
    "# cleaniness and history that is reason we can use rebase use in small project\n",
    "\n",
    "git branch\n",
    "git checkout -b rebase-branch\n",
    "touch rebase.txt\n",
    "git add .\n",
    "git commit -m \"rebase\"\n",
    "git checkout master\n",
    "git rebase rebase-branch\n",
    "git log --oneline\n",
    "\n"
   ]
  },
  {
   "cell_type": "code",
   "execution_count": null,
   "metadata": {},
   "outputs": [],
   "source": [
    "# Resolving merge and rebase conflicts\n",
    "# merge.txt file github and merge.txt on local\n",
    "# pull change and push again whatever need to be change\n",
    "\n",
    "git diff merge.txt\n",
    "\n",
    "### Rebase conflit\n",
    "git rebase rebase.txt\n",
    "git rebase --abort # dont use this steps\n",
    "git diff \n",
    "git rebase --continue\n",
    "\n",
    "# and again add commit and push"
   ]
  },
  {
   "cell_type": "code",
   "execution_count": null,
   "metadata": {},
   "outputs": [],
   "source": [
    "important# how to stash code\n",
    "# when you are working and emergencly you need to save the code and you dont want to save the code or commit it or create a new branch\n",
    "\n",
    "git branch stash-example\n",
    "git checkout stash-example\n",
    "\n",
    "git stash\n",
    "git stash list\n",
    "\n",
    "git stash apply\n",
    "\n",
    "git stash drop\n",
    "\n",
    "\n"
   ]
  },
  {
   "cell_type": "code",
   "execution_count": null,
   "metadata": {},
   "outputs": [],
   "source": [
    "#adding tags to your commits\\\n",
    "\n",
    "git tag v0.1\n",
    "git origin v0.1\n",
    "git checkout a1ed910\n",
    "git origin v0.2\n",
    "\n",
    "git push origin --tags\n",
    "git tag -d v0.1\n",
    "git tag\n",
    "git push origin --delete v0.1\n",
    "\n",
    "git checkout v0.1 # so it can directly go the branch\n",
    "\n",
    "\n"
   ]
  },
  {
   "cell_type": "code",
   "execution_count": null,
   "metadata": {},
   "outputs": [],
   "source": [
    "#https://learngitbranching.js.org/\n",
    "#book  https://books.goalkicker.com/GitBook/"
   ]
  },
  {
   "cell_type": "code",
   "execution_count": null,
   "metadata": {},
   "outputs": [],
   "source": []
  }
 ],
 "metadata": {
  "kernelspec": {
   "display_name": "training",
   "language": "python",
   "name": "python3"
  },
  "language_info": {
   "codemirror_mode": {
    "name": "ipython",
    "version": 3
   },
   "file_extension": ".py",
   "mimetype": "text/x-python",
   "name": "python",
   "nbconvert_exporter": "python",
   "pygments_lexer": "ipython3",
   "version": "3.10.15"
  }
 },
 "nbformat": 4,
 "nbformat_minor": 2
}
